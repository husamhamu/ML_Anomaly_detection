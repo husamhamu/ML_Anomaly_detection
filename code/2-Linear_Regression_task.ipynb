{
 "cells": [
  {
   "cell_type": "markdown",
   "metadata": {
    "collapsed": false,
    "pycharm": {
     "name": "#%% md\n"
    }
   },
   "source": [
    "# Exercise 2: Linear Regression\n",
    "----------\n",
    "In this exercise, you are going to implement a first machine learning model and get to know the libraries *pandas* and *scikit-learn*."
   ]
  },
  {
   "cell_type": "markdown",
   "metadata": {
    "collapsed": false,
    "pycharm": {
     "name": "#%% md\n"
    }
   },
   "source": [
    "## Dataset\n",
    "We will use a data set originally published here: [UCI Machine Learning Repository](https://archive.ics.uci.edu/dataset/9/auto+mpg)\n",
    "\n",
    "Download the data set from Moodle. The data set consists of two files:\n",
    "- auto-mpg.data: contains the data\n",
    "- auto-mpg.names: contains information about the data set\n",
    "\n",
    "The data set contains data from 398 different car models. This includes, besides the car name, information about:\n",
    "- fuel consumption in miles per gallon\n",
    "- cylinders\n",
    "- engine displacement\n",
    "- horsepower\n",
    "- weight\n",
    "- acceleration\n",
    "- model year\n",
    "- origin\n",
    "\n",
    "The goal of this exercise is to predict the fuel consumption of the cars using the other available attributes as input to a linear regression algorithm.\n",
    "\n",
    "## Importing Data with *pandas*\n",
    "\n",
    "The *pandas* library is a very important library often used in data science to handle data sets. It includes functions to analyze, explore and manipulate data.\n",
    "You can check out information about *pandas* on their website: [https://pandas.pydata.org/docs/index.html](https://pandas.pydata.org/docs/index.html)\n",
    "\n",
    "When working with data sets in *pandas*, the data is loaded into a pandas DataFrame, which is a two-dimensional structure similar to a table. In general the columns of the DataFrame refer to the different features of the data set while the rows represent the instances of the data. *Pandas* gives you many possibilities to handle and analyze the data in the DataFrame, e.g. to calculate statistical properties or to clean the data.\n"
   ]
  },
  {
   "cell_type": "code",
   "execution_count": 1,
   "metadata": {
    "collapsed": false,
    "pycharm": {
     "name": "#%%\n"
    }
   },
   "outputs": [
    {
     "name": "stdout",
     "output_type": "stream",
     "text": [
      "   Height  Weight     Name\n",
      "0     180      80     Jack\n",
      "1     165      56     John\n",
      "2     172     105   Oliver\n",
      "3     201     102   George\n",
      "4     177      68  William\n"
     ]
    }
   ],
   "source": [
    "import pandas as pd\n",
    "\n",
    "data = {\n",
    "    \"Height\": [180, 165, 172, 201, 177],\n",
    "    \"Weight\": [80, 56, 105, 102, 68],\n",
    "    \"Name\": ['Jack', 'John', 'Oliver', 'George', 'William']\n",
    "}\n",
    "\n",
    "# load the data into a data frame\n",
    "dataframe = pd.DataFrame(data)\n",
    "\n",
    "print(dataframe)"
   ]
  },
  {
   "cell_type": "code",
   "execution_count": 2,
   "metadata": {
    "collapsed": false,
    "pycharm": {
     "name": "#%%\n"
    }
   },
   "outputs": [
    {
     "name": "stdout",
     "output_type": "stream",
     "text": [
      "<class 'pandas.core.frame.DataFrame'>\n",
      "RangeIndex: 5 entries, 0 to 4\n",
      "Data columns (total 3 columns):\n",
      " #   Column  Non-Null Count  Dtype \n",
      "---  ------  --------------  ----- \n",
      " 0   Height  5 non-null      int64 \n",
      " 1   Weight  5 non-null      int64 \n",
      " 2   Name    5 non-null      object\n",
      "dtypes: int64(2), object(1)\n",
      "memory usage: 252.0+ bytes\n"
     ]
    }
   ],
   "source": [
    "# the info() function gives you a first overview of the data like the number of rows and columns and the data types.\n",
    "dataframe.info()"
   ]
  },
  {
   "cell_type": "code",
   "execution_count": 3,
   "metadata": {
    "collapsed": false,
    "pycharm": {
     "name": "#%%\n"
    }
   },
   "outputs": [
    {
     "name": "stdout",
     "output_type": "stream",
     "text": [
      "0    180\n",
      "1    165\n",
      "2    172\n",
      "3    201\n",
      "4    177\n",
      "Name: Height, dtype: int64\n",
      "<class 'pandas.core.series.Series'>\n"
     ]
    }
   ],
   "source": [
    "# Select a column of the dataframe\n",
    "print(dataframe['Height'])\n",
    "# The result of the selection is a Pandas Series, which is a one-dimensional array\n",
    "print(type(dataframe['Height']))"
   ]
  },
  {
   "cell_type": "code",
   "execution_count": 4,
   "metadata": {
    "collapsed": false,
    "pycharm": {
     "name": "#%%\n"
    }
   },
   "outputs": [
    {
     "name": "stdout",
     "output_type": "stream",
     "text": [
      "   Weight    Name\n",
      "0      80    Jack\n",
      "1      56    John\n",
      "2     105  Oliver\n"
     ]
    }
   ],
   "source": [
    "# Select rows and columns of the dataframe using loc\n",
    "# input to loc are the labels of the data\n",
    "print(dataframe.loc[0:2,['Weight', 'Name']])"
   ]
  },
  {
   "cell_type": "code",
   "execution_count": 5,
   "metadata": {
    "collapsed": false,
    "pycharm": {
     "name": "#%%\n"
    }
   },
   "outputs": [
    {
     "name": "stdout",
     "output_type": "stream",
     "text": [
      "   Weight    Name\n",
      "0      80    Jack\n",
      "1      56    John\n",
      "2     105  Oliver\n"
     ]
    }
   ],
   "source": [
    "# select a row of the dataframe using iloc\n",
    "# iloc uses integer-based indexing\n",
    "print(dataframe.iloc[0:3,1:3])\n",
    "# this gives the same output as the code block above"
   ]
  },
  {
   "cell_type": "markdown",
   "metadata": {
    "collapsed": false,
    "pycharm": {
     "name": "#%% md\n"
    }
   },
   "source": [
    "------\n",
    "\n",
    "## Task 1: Load data\n",
    "Load the car data set for this exercise using the read_csv function from pandas and take a first look at the data to ensure it was properly loaded."
   ]
  },
  {
   "cell_type": "code",
   "execution_count": 12,
   "metadata": {
    "collapsed": false,
    "pycharm": {
     "name": "#%%\n"
    }
   },
   "outputs": [],
   "source": []
  },
  {
   "cell_type": "markdown",
   "metadata": {
    "collapsed": false,
    "pycharm": {
     "name": "#%% md\n"
    }
   },
   "source": [
    "## Task 2: Clean data\n",
    "\n",
    "As described in the auto-mpg.names file, there are six missing horsepower values within the data set. For this exercise, we are going to ignore the six cars with this missing information. Use pandas to find and delete the six instances with missing horsepower information."
   ]
  },
  {
   "cell_type": "code",
   "execution_count": 12,
   "metadata": {
    "collapsed": false,
    "pycharm": {
     "name": "#%%\n"
    }
   },
   "outputs": [],
   "source": []
  },
  {
   "cell_type": "markdown",
   "metadata": {
    "collapsed": false,
    "pycharm": {
     "name": "#%% md\n"
    }
   },
   "source": [
    "## Task 3: Linear Regression\n",
    "\n",
    "Your task is to predict the fuel consumption in miles per gallon of the cars. Use the formula for linear regression from the lecture $\\beta = (X^{T}X)^{-1}X^{T}y$ to perform this task. Choose the available numeric features cylinders, displacement, horsepower, weight, acceleration, model year and origin as input features.\n",
    "\n",
    "Calculate the root mean square error of your prediction."
   ]
  },
  {
   "cell_type": "code",
   "execution_count": 12,
   "metadata": {
    "collapsed": false,
    "pycharm": {
     "name": "#%%\n"
    }
   },
   "outputs": [],
   "source": []
  },
  {
   "cell_type": "markdown",
   "metadata": {
    "collapsed": false,
    "pycharm": {
     "name": "#%% md\n"
    }
   },
   "source": [
    "-------------\n",
    "\n",
    "## Scikit-Learn\n",
    "\n",
    "As seen in Task 3, the linear regression model can be easily implemented in Python. For more complex algorithms, it makes sense to use existing libraries. *scikit-learn* is a very helpful library in the field of machine learning. With the help of *scikit-learn*, many machine learning models can be easily implemented. It also contains methods to transform and pre-process data before applying the machine learning algorithm and can be used for evaluation as well.\n",
    "\n",
    "For example, a linear regression model can be implemented as shown in the following code block."
   ]
  },
  {
   "cell_type": "code",
   "execution_count": 13,
   "metadata": {
    "collapsed": false,
    "pycharm": {
     "name": "#%%\n"
    }
   },
   "outputs": [
    {
     "name": "stdout",
     "output_type": "stream",
     "text": [
      "0.3392857142857153 [1.97738095]\n",
      "The root mean squared error is 0.63\n"
     ]
    }
   ],
   "source": [
    "# import scikit-learn\n",
    "from sklearn.linear_model import LinearRegression\n",
    "import numpy as np\n",
    "\n",
    "# data set\n",
    "x = np.transpose(np.array([[1,2,3,4,5,6,7,8]]))\n",
    "y = np.transpose(np.array([3,4.5,5.8,7,10,13,14.6,16]))\n",
    "\n",
    "# define a linear model and fit it to the given data\n",
    "lm = LinearRegression(fit_intercept=True).fit(x,y)\n",
    "\n",
    "# print the coefficients of the linear model\n",
    "print(lm.intercept_, lm.coef_)\n",
    "\n",
    "# calculate the predicted values\n",
    "y_pred = lm.predict(x)\n",
    "\n",
    "# calculate the root mean square error\n",
    "from sklearn.metrics import mean_squared_error\n",
    "rmse = mean_squared_error(y, y_pred, squared=False)\n",
    "print('The root mean squared error is {:.2f}'.format(rmse))"
   ]
  },
  {
   "cell_type": "markdown",
   "metadata": {
    "collapsed": false,
    "pycharm": {
     "name": "#%% md\n"
    }
   },
   "source": [
    "--------------\n",
    "## Task 4: Optimization and Evaluation\n",
    "\n",
    "In this task, we want to compare the results of the classic linear regression that we have already implemented above with the results of a lasso approach. In order to compare the results on unseen data, we have to define a training and a test data set.\n",
    "\n",
    "a) Use the *scikit-learn* function \"train_test_split\" to split the data into the two sets. Choose a size of 70% for the training data and 30% for the test data."
   ]
  },
  {
   "cell_type": "code",
   "execution_count": 13,
   "metadata": {
    "collapsed": false,
    "pycharm": {
     "name": "#%%\n"
    }
   },
   "outputs": [],
   "source": []
  },
  {
   "cell_type": "markdown",
   "metadata": {
    "collapsed": false,
    "pycharm": {
     "name": "#%% md\n"
    }
   },
   "source": [
    "b) Learn the classic linear regression model on the training data set and evaluate its performance on training and test data set using the root mean square error as evaluation metric."
   ]
  },
  {
   "cell_type": "code",
   "execution_count": 13,
   "metadata": {
    "collapsed": false,
    "pycharm": {
     "name": "#%%\n"
    }
   },
   "outputs": [],
   "source": []
  },
  {
   "cell_type": "markdown",
   "metadata": {
    "collapsed": false,
    "pycharm": {
     "name": "#%% md\n"
    }
   },
   "source": [
    "c) Learn a linear regression model with lasso regularization on the training data set and evaluate its performance on training and test data set using the root mean square error as evaluation metric. Use the \"Lasso\" module from *scikit-learn* to perform this task and set the alpha-value to 1. Compare the model coefficients and the performance with the classic linear regression approach from above. Which of the models seems better suited for the given task?"
   ]
  },
  {
   "cell_type": "code",
   "execution_count": 13,
   "metadata": {
    "collapsed": false,
    "pycharm": {
     "name": "#%%\n"
    }
   },
   "outputs": [],
   "source": []
  },
  {
   "cell_type": "markdown",
   "metadata": {
    "collapsed": false,
    "pycharm": {
     "name": "#%% md\n"
    }
   },
   "source": [
    "d) Perform a hyperparameter optimization for the lasso approach by trying different values for the hyperparameter alpha. Evaluate the performance and find the alpha value with the best performance."
   ]
  },
  {
   "cell_type": "code",
   "execution_count": 13,
   "metadata": {
    "collapsed": false,
    "pycharm": {
     "name": "#%%\n"
    }
   },
   "outputs": [],
   "source": []
  }
 ],
 "metadata": {
  "kernelspec": {
   "display_name": "Python 3",
   "language": "python",
   "name": "python3"
  },
  "language_info": {
   "codemirror_mode": {
    "name": "ipython",
    "version": 3
   },
   "file_extension": ".py",
   "mimetype": "text/x-python",
   "name": "python",
   "nbconvert_exporter": "python",
   "pygments_lexer": "ipython3",
   "version": "3.11.5"
  }
 },
 "nbformat": 4,
 "nbformat_minor": 0
}
