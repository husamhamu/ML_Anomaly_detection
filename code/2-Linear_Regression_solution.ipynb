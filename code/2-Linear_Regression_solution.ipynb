{
 "cells": [
  {
   "cell_type": "markdown",
   "metadata": {
    "collapsed": false,
    "pycharm": {
     "name": "#%% md\n"
    }
   },
   "source": [
    "# Exercise 2: Linear Regression\n",
    "----------\n",
    "In this exercise, you are going to implement a first machine learning model and get to know the libraries *pandas* and *scikit-learn*."
   ]
  },
  {
   "cell_type": "markdown",
   "metadata": {
    "collapsed": false,
    "pycharm": {
     "name": "#%% md\n"
    }
   },
   "source": [
    "## Dataset\n",
    "We will use a data set originally published here: [UCI Machine Learning Repository](https://archive.ics.uci.edu/dataset/9/auto+mpg)\n",
    "\n",
    "Download the data set from Moodle. The data set consists of two files:\n",
    "- auto-mpg.data: contains the data\n",
    "- auto-mpg.names: contains information about the data set\n",
    "\n",
    "The data set contains data from 398 different car models. This includes, besides the car name, information about:\n",
    "- fuel consumption in miles per gallon\n",
    "- cylinders\n",
    "- engine displacement\n",
    "- horsepower\n",
    "- weight\n",
    "- acceleration\n",
    "- model year\n",
    "- origin\n",
    "\n",
    "The goal of this exercise is to predict the fuel consumption of the cars using the other available attributes as input to a linear regression algorithm.\n",
    "\n",
    "## Importing Data with *pandas*\n",
    "\n",
    "The *pandas* library is a very important library often used in data science to handle data sets. It includes functions to analyze, explore and manipulate data.\n",
    "You can check out information about *pandas* on their website: [https://pandas.pydata.org/docs/index.html](https://pandas.pydata.org/docs/index.html)\n",
    "\n",
    "When working with data sets in *pandas*, the data is loaded into a pandas DataFrame, which is a two-dimensional structure similar to a table. In general the columns of the DataFrame refer to the different features of the data set while the rows represent the instances of the data. *Pandas* gives you many possibilities to handle and analyze the data in the DataFrame, e.g. to calculate statistical properties or to clean the data.\n"
   ]
  },
  {
   "cell_type": "code",
   "execution_count": 1,
   "metadata": {
    "collapsed": false,
    "pycharm": {
     "name": "#%%\n"
    }
   },
   "outputs": [
    {
     "name": "stdout",
     "output_type": "stream",
     "text": [
      "   Height  Weight     Name\n",
      "0     180      80     Jack\n",
      "1     165      56     John\n",
      "2     172     105   Oliver\n",
      "3     201     102   George\n",
      "4     177      68  William\n"
     ]
    }
   ],
   "source": [
    "import pandas as pd\n",
    "\n",
    "data = {\n",
    "    \"Height\": [180, 165, 172, 201, 177],\n",
    "    \"Weight\": [80, 56, 105, 102, 68],\n",
    "    \"Name\": ['Jack', 'John', 'Oliver', 'George', 'William']\n",
    "}\n",
    "\n",
    "# load the data into a data frame\n",
    "dataframe = pd.DataFrame(data)\n",
    "\n",
    "print(dataframe)"
   ]
  },
  {
   "cell_type": "code",
   "execution_count": 2,
   "metadata": {
    "collapsed": false,
    "pycharm": {
     "name": "#%%\n"
    }
   },
   "outputs": [
    {
     "name": "stdout",
     "output_type": "stream",
     "text": [
      "<class 'pandas.core.frame.DataFrame'>\n",
      "RangeIndex: 5 entries, 0 to 4\n",
      "Data columns (total 3 columns):\n",
      " #   Column  Non-Null Count  Dtype \n",
      "---  ------  --------------  ----- \n",
      " 0   Height  5 non-null      int64 \n",
      " 1   Weight  5 non-null      int64 \n",
      " 2   Name    5 non-null      object\n",
      "dtypes: int64(2), object(1)\n",
      "memory usage: 252.0+ bytes\n"
     ]
    }
   ],
   "source": [
    "# the info() function gives you a first overview of the data like the number of rows and columns and the data types.\n",
    "dataframe.info()"
   ]
  },
  {
   "cell_type": "code",
   "execution_count": 3,
   "metadata": {
    "collapsed": false,
    "pycharm": {
     "name": "#%%\n"
    }
   },
   "outputs": [
    {
     "name": "stdout",
     "output_type": "stream",
     "text": [
      "0    180\n",
      "1    165\n",
      "2    172\n",
      "3    201\n",
      "4    177\n",
      "Name: Height, dtype: int64\n",
      "<class 'pandas.core.series.Series'>\n"
     ]
    }
   ],
   "source": [
    "# Select a column of the dataframe\n",
    "print(dataframe['Height'])\n",
    "# The result of the selection is a Pandas Series, which is a one-dimensional array\n",
    "print(type(dataframe['Height']))"
   ]
  },
  {
   "cell_type": "code",
   "execution_count": 4,
   "metadata": {
    "collapsed": false,
    "pycharm": {
     "name": "#%%\n"
    }
   },
   "outputs": [
    {
     "name": "stdout",
     "output_type": "stream",
     "text": [
      "   Weight    Name\n",
      "0      80    Jack\n",
      "1      56    John\n",
      "2     105  Oliver\n"
     ]
    }
   ],
   "source": [
    "# Select rows and columns of the dataframe using loc\n",
    "# input to loc are the labels of the data\n",
    "print(dataframe.loc[0:2,['Weight', 'Name']])"
   ]
  },
  {
   "cell_type": "code",
   "execution_count": 5,
   "metadata": {
    "collapsed": false,
    "pycharm": {
     "name": "#%%\n"
    }
   },
   "outputs": [
    {
     "name": "stdout",
     "output_type": "stream",
     "text": [
      "   Weight    Name\n",
      "0      80    Jack\n",
      "1      56    John\n",
      "2     105  Oliver\n"
     ]
    }
   ],
   "source": [
    "# select a row of the dataframe using iloc\n",
    "# iloc uses integer-based indexing\n",
    "print(dataframe.iloc[0:3,1:3])\n",
    "# this gives the same output as the code block above"
   ]
  },
  {
   "cell_type": "markdown",
   "metadata": {
    "collapsed": false,
    "pycharm": {
     "name": "#%% md\n"
    }
   },
   "source": [
    "------\n",
    "\n",
    "## Task 1: Load data\n",
    "Load the car data set for this exercise using the read_csv function from pandas and take a first look at the data to ensure it was properly loaded."
   ]
  },
  {
   "cell_type": "code",
   "execution_count": 9,
   "metadata": {
    "collapsed": false,
    "pycharm": {
     "name": "#%%\n"
    }
   },
   "outputs": [
    {
     "data": {
      "text/html": [
       "<div>\n",
       "<style scoped>\n",
       "    .dataframe tbody tr th:only-of-type {\n",
       "        vertical-align: middle;\n",
       "    }\n",
       "\n",
       "    .dataframe tbody tr th {\n",
       "        vertical-align: top;\n",
       "    }\n",
       "\n",
       "    .dataframe thead th {\n",
       "        text-align: right;\n",
       "    }\n",
       "</style>\n",
       "<table border=\"1\" class=\"dataframe\">\n",
       "  <thead>\n",
       "    <tr style=\"text-align: right;\">\n",
       "      <th></th>\n",
       "      <th>mpg</th>\n",
       "      <th>cylinders</th>\n",
       "      <th>displacement</th>\n",
       "      <th>horsepower</th>\n",
       "      <th>weight</th>\n",
       "      <th>acceleration</th>\n",
       "      <th>model year</th>\n",
       "      <th>origin</th>\n",
       "      <th>car name</th>\n",
       "    </tr>\n",
       "  </thead>\n",
       "  <tbody>\n",
       "    <tr>\n",
       "      <th>0</th>\n",
       "      <td>18.0</td>\n",
       "      <td>8</td>\n",
       "      <td>307.0</td>\n",
       "      <td>130.0</td>\n",
       "      <td>3504.0</td>\n",
       "      <td>12.0</td>\n",
       "      <td>70</td>\n",
       "      <td>1</td>\n",
       "      <td>chevrolet chevelle malibu</td>\n",
       "    </tr>\n",
       "    <tr>\n",
       "      <th>1</th>\n",
       "      <td>15.0</td>\n",
       "      <td>8</td>\n",
       "      <td>350.0</td>\n",
       "      <td>165.0</td>\n",
       "      <td>3693.0</td>\n",
       "      <td>11.5</td>\n",
       "      <td>70</td>\n",
       "      <td>1</td>\n",
       "      <td>buick skylark 320</td>\n",
       "    </tr>\n",
       "    <tr>\n",
       "      <th>2</th>\n",
       "      <td>18.0</td>\n",
       "      <td>8</td>\n",
       "      <td>318.0</td>\n",
       "      <td>150.0</td>\n",
       "      <td>3436.0</td>\n",
       "      <td>11.0</td>\n",
       "      <td>70</td>\n",
       "      <td>1</td>\n",
       "      <td>plymouth satellite</td>\n",
       "    </tr>\n",
       "    <tr>\n",
       "      <th>3</th>\n",
       "      <td>16.0</td>\n",
       "      <td>8</td>\n",
       "      <td>304.0</td>\n",
       "      <td>150.0</td>\n",
       "      <td>3433.0</td>\n",
       "      <td>12.0</td>\n",
       "      <td>70</td>\n",
       "      <td>1</td>\n",
       "      <td>amc rebel sst</td>\n",
       "    </tr>\n",
       "    <tr>\n",
       "      <th>4</th>\n",
       "      <td>17.0</td>\n",
       "      <td>8</td>\n",
       "      <td>302.0</td>\n",
       "      <td>140.0</td>\n",
       "      <td>3449.0</td>\n",
       "      <td>10.5</td>\n",
       "      <td>70</td>\n",
       "      <td>1</td>\n",
       "      <td>ford torino</td>\n",
       "    </tr>\n",
       "  </tbody>\n",
       "</table>\n",
       "</div>"
      ],
      "text/plain": [
       "    mpg  cylinders  displacement horsepower  weight  acceleration  model year  \\\n",
       "0  18.0          8         307.0      130.0  3504.0          12.0          70   \n",
       "1  15.0          8         350.0      165.0  3693.0          11.5          70   \n",
       "2  18.0          8         318.0      150.0  3436.0          11.0          70   \n",
       "3  16.0          8         304.0      150.0  3433.0          12.0          70   \n",
       "4  17.0          8         302.0      140.0  3449.0          10.5          70   \n",
       "\n",
       "   origin                   car name  \n",
       "0       1  chevrolet chevelle malibu  \n",
       "1       1          buick skylark 320  \n",
       "2       1         plymouth satellite  \n",
       "3       1              amc rebel sst  \n",
       "4       1                ford torino  "
      ]
     },
     "execution_count": 9,
     "metadata": {},
     "output_type": "execute_result"
    }
   ],
   "source": [
    "# import pandas library\n",
    "import pandas as pd\n",
    "data = pd.read_csv('Data_auto_mpg-20231031/auto-mpg.data', delim_whitespace=True, header=None, names=['mpg','cylinders','displacement','horsepower','weight','acceleration','model year','origin','car name'])\n",
    "\n",
    "data.head(5)"
   ]
  },
  {
   "cell_type": "code",
   "execution_count": 10,
   "metadata": {
    "collapsed": false,
    "pycharm": {
     "name": "#%%\n"
    }
   },
   "outputs": [
    {
     "name": "stdout",
     "output_type": "stream",
     "text": [
      "<class 'pandas.core.frame.DataFrame'>\n",
      "RangeIndex: 398 entries, 0 to 397\n",
      "Data columns (total 9 columns):\n",
      " #   Column        Non-Null Count  Dtype  \n",
      "---  ------        --------------  -----  \n",
      " 0   mpg           398 non-null    float64\n",
      " 1   cylinders     398 non-null    int64  \n",
      " 2   displacement  398 non-null    float64\n",
      " 3   horsepower    398 non-null    object \n",
      " 4   weight        398 non-null    float64\n",
      " 5   acceleration  398 non-null    float64\n",
      " 6   model year    398 non-null    int64  \n",
      " 7   origin        398 non-null    int64  \n",
      " 8   car name      398 non-null    object \n",
      "dtypes: float64(4), int64(3), object(2)\n",
      "memory usage: 28.1+ KB\n"
     ]
    }
   ],
   "source": [
    "data.info()"
   ]
  },
  {
   "cell_type": "markdown",
   "metadata": {
    "collapsed": false,
    "pycharm": {
     "name": "#%% md\n"
    }
   },
   "source": [
    "## Task 2: Clean data\n",
    "\n",
    "As described in the auto-mpg.names file, there are six missing horsepower values within the data set. For this exercise, we are going to ignore the six cars with this missing information. Use pandas to find and delete the six instances with missing horsepower information."
   ]
  },
  {
   "cell_type": "code",
   "execution_count": 11,
   "metadata": {
    "collapsed": false,
    "pycharm": {
     "name": "#%%\n"
    }
   },
   "outputs": [
    {
     "name": "stdout",
     "output_type": "stream",
     "text": [
      "<class 'pandas.core.frame.DataFrame'>\n",
      "Index: 392 entries, 0 to 397\n",
      "Data columns (total 9 columns):\n",
      " #   Column        Non-Null Count  Dtype  \n",
      "---  ------        --------------  -----  \n",
      " 0   mpg           392 non-null    float64\n",
      " 1   cylinders     392 non-null    int64  \n",
      " 2   displacement  392 non-null    float64\n",
      " 3   horsepower    392 non-null    float64\n",
      " 4   weight        392 non-null    float64\n",
      " 5   acceleration  392 non-null    float64\n",
      " 6   model year    392 non-null    int64  \n",
      " 7   origin        392 non-null    int64  \n",
      " 8   car name      392 non-null    object \n",
      "dtypes: float64(5), int64(3), object(1)\n",
      "memory usage: 30.6+ KB\n"
     ]
    }
   ],
   "source": [
    "missing_horsepower = data[data['horsepower'] == '?']\n",
    "\n",
    "data = data.drop(index=missing_horsepower.index)\n",
    "data['horsepower'] = data['horsepower'].astype(float)\n",
    "data.info()"
   ]
  },
  {
   "cell_type": "markdown",
   "metadata": {
    "collapsed": false,
    "pycharm": {
     "name": "#%% md\n"
    }
   },
   "source": [
    "## Task 3: Linear Regression\n",
    "\n",
    "Your task is to predict the fuel consumption in miles per gallon of the cars. Use the formula for linear regression from the lecture $\\beta = (X^{T}X)^{-1}X^{T}y$ to perform this task. Choose the available numeric features cylinders, displacement, horsepower, weight, acceleration, model year and origin as input features.\n",
    "\n",
    "Calculate the root mean square error of your prediction."
   ]
  },
  {
   "cell_type": "code",
   "execution_count": 15,
   "metadata": {
    "collapsed": false,
    "pycharm": {
     "name": "#%%\n"
    }
   },
   "outputs": [],
   "source": [
    "import numpy as np\n",
    "\n",
    "y = data['mpg']\n",
    "n = y.size\n",
    "\n",
    "one_vector = np.ones((n,1))\n",
    "features = data[['cylinders', 'displacement','horsepower','weight','acceleration','model year', 'origin']]\n",
    "x = np.append(one_vector,features, axis=1)\n",
    "\n",
    "beta = np.linalg.inv(x.T @ x) @ x.T @ y"
   ]
  },
  {
   "cell_type": "code",
   "execution_count": 23,
   "metadata": {
    "collapsed": false,
    "pycharm": {
     "name": "#%%\n"
    }
   },
   "outputs": [
    {
     "name": "stdout",
     "output_type": "stream",
     "text": [
      "[-1.72184346e+01 -4.93376319e-01  1.98956437e-02 -1.69511442e-02\n",
      " -6.47404340e-03  8.05758383e-02  7.50772678e-01  1.42614050e+00]\n"
     ]
    }
   ],
   "source": [
    "print(beta)"
   ]
  },
  {
   "cell_type": "code",
   "execution_count": 24,
   "metadata": {
    "collapsed": false,
    "pycharm": {
     "name": "#%%\n"
    }
   },
   "outputs": [
    {
     "name": "stdout",
     "output_type": "stream",
     "text": [
      "The root mean squared error is 3.29 mpg\n"
     ]
    }
   ],
   "source": [
    "y_pred = np.matmul(x,beta)\n",
    "\n",
    "mse = np.square(np.subtract(y,y_pred)).mean()\n",
    "rmse = np.sqrt(mse)\n",
    "\n",
    "print('The root mean squared error is {:.2f} mpg'.format(rmse))"
   ]
  },
  {
   "cell_type": "markdown",
   "metadata": {
    "collapsed": false,
    "pycharm": {
     "name": "#%% md\n"
    }
   },
   "source": [
    "-------------\n",
    "\n",
    "## Scikit-Learn\n",
    "\n",
    "As seen in Task 3, the linear regression model can be easily implemented in Python. For more complex algorithms, it makes sense to use existing libraries. *scikit-learn* is a very helpful library in the field of machine learning. With the help of *scikit-learn*, many machine learning models can be easily implemented. It also contains methods to transform and pre-process data before applying the machine learning algorithm and can be used for evaluation as well.\n",
    "\n",
    "For example, a linear regression model can be implemented as shown in the following code block."
   ]
  },
  {
   "cell_type": "code",
   "execution_count": 25,
   "metadata": {
    "collapsed": false,
    "pycharm": {
     "name": "#%%\n"
    }
   },
   "outputs": [
    {
     "name": "stdout",
     "output_type": "stream",
     "text": [
      "0.3392857142857153 [1.97738095]\n",
      "The root mean squared error is 0.63\n"
     ]
    }
   ],
   "source": [
    "# import scikit-learn\n",
    "from sklearn.linear_model import LinearRegression\n",
    "import numpy as np\n",
    "\n",
    "# data set\n",
    "x = np.transpose(np.array([[1,2,3,4,5,6,7,8]]))\n",
    "y = np.transpose(np.array([3,4.5,5.8,7,10,13,14.6,16]))\n",
    "\n",
    "# define a linear model and fit it to the given data\n",
    "lm = LinearRegression(fit_intercept=True).fit(x,y)\n",
    "\n",
    "# print the coefficients of the linear model\n",
    "print(lm.intercept_, lm.coef_)\n",
    "\n",
    "# calculate the predicted values\n",
    "y_pred = lm.predict(x)\n",
    "\n",
    "# calculate the root mean square error\n",
    "from sklearn.metrics import mean_squared_error\n",
    "rmse = mean_squared_error(y, y_pred, squared=False)\n",
    "print('The root mean squared error is {:.2f}'.format(rmse))"
   ]
  },
  {
   "cell_type": "markdown",
   "metadata": {
    "collapsed": false,
    "pycharm": {
     "name": "#%% md\n"
    }
   },
   "source": [
    "--------------\n",
    "## Task 4: Optimization and Evaluation\n",
    "\n",
    "In this task, we want to compare the results of the classic linear regression that we have already implemented above with the results of a lasso approach. In order to compare the results on unseen data, we have to define a training and a test data set.\n",
    "\n",
    "a) Use the *scikit-learn* function \"train_test_split\" to split the data into the two sets. Choose a size of 70% for the training data and 30% for the test data."
   ]
  },
  {
   "cell_type": "code",
   "execution_count": 27,
   "metadata": {
    "collapsed": false,
    "pycharm": {
     "name": "#%%\n"
    }
   },
   "outputs": [],
   "source": [
    "from sklearn.model_selection import train_test_split\n",
    "\n",
    "y = data['mpg']\n",
    "x = data[['cylinders', 'displacement','horsepower','weight','acceleration','model year', 'origin']]\n",
    "\n",
    "x_train, x_test, y_train, y_test = train_test_split(x,y, test_size=0.3, random_state=27)"
   ]
  },
  {
   "cell_type": "markdown",
   "metadata": {
    "collapsed": false,
    "pycharm": {
     "name": "#%% md\n"
    }
   },
   "source": [
    "b) Learn the classic linear regression model on the training data set and evaluate its performance on training and test data set using the root mean square error as evaluation metric."
   ]
  },
  {
   "cell_type": "code",
   "execution_count": 28,
   "metadata": {
    "collapsed": false,
    "pycharm": {
     "name": "#%%\n"
    }
   },
   "outputs": [
    {
     "name": "stdout",
     "output_type": "stream",
     "text": [
      "The root mean squared error on the training set is 3.25 \n",
      " The root mean squared error on the test set is 3.47\n"
     ]
    }
   ],
   "source": [
    "from sklearn.linear_model import LinearRegression\n",
    "\n",
    "# create a linear model and fit it to the given data\n",
    "lin_reg = LinearRegression(fit_intercept=True).fit(x_train,y_train)\n",
    "\n",
    "# calculate the predicted values\n",
    "y_train_pred = lin_reg.predict(x_train)\n",
    "y_test_pred = lin_reg.predict(x_test)\n",
    "\n",
    "# calculate the root mean square error\n",
    "from sklearn.metrics import mean_squared_error\n",
    "rmse_train = mean_squared_error(y_train, y_train_pred, squared=False)\n",
    "rmse_test = mean_squared_error(y_test, y_test_pred, squared=False)\n",
    "print('The root mean squared error on the training set is {:.2f} \\n The root mean squared error on the test set is {:.2f}'.format(rmse_train, rmse_test))"
   ]
  },
  {
   "cell_type": "markdown",
   "metadata": {
    "collapsed": false,
    "pycharm": {
     "name": "#%% md\n"
    }
   },
   "source": [
    "c) Learn a linear regression model with lasso regularization on the training data set and evaluate its performance on training and test data set using the root mean square error as evaluation metric. Use the \"Lasso\" module from *scikit-learn* to perform this task and set the alpha-value to 1. Compare the model coefficients and the performance with the classic linear regression approach from above. Which of the models seems better suited for the given task?"
   ]
  },
  {
   "cell_type": "code",
   "execution_count": 29,
   "metadata": {
    "collapsed": false,
    "pycharm": {
     "name": "#%%\n"
    }
   },
   "outputs": [
    {
     "name": "stdout",
     "output_type": "stream",
     "text": [
      "The root mean squared error on the training set is 3.42 \n",
      " The root mean squared error on the test set is 3.47\n"
     ]
    }
   ],
   "source": [
    "from sklearn.linear_model import Lasso\n",
    "\n",
    "# create a Lasso model and fit it to the given data\n",
    "lin_reg = Lasso(fit_intercept=True).fit(x_train,y_train)\n",
    "\n",
    "# calculate the predicted values\n",
    "y_train_pred = lin_reg.predict(x_train)\n",
    "y_test_pred = lin_reg.predict(x_test)\n",
    "\n",
    "# calculate the root mean square error\n",
    "from sklearn.metrics import mean_squared_error\n",
    "rmse_train = mean_squared_error(y_train, y_train_pred, squared=False)\n",
    "rmse_test = mean_squared_error(y_test, y_test_pred, squared=False)\n",
    "print('The root mean squared error on the training set is {:.2f} \\n The root mean squared error on the test set is {:.2f}'.format(rmse_train, rmse_test))"
   ]
  },
  {
   "cell_type": "code",
   "execution_count": 30,
   "metadata": {
    "collapsed": false,
    "pycharm": {
     "name": "#%%\n"
    }
   },
   "outputs": [
    {
     "name": "stdout",
     "output_type": "stream",
     "text": [
      "[ 0.          0.00169793 -0.01669805 -0.00641266  0.          0.64193786\n",
      "  0.        ]\n"
     ]
    }
   ],
   "source": [
    "print(lin_reg.coef_)"
   ]
  },
  {
   "cell_type": "markdown",
   "metadata": {
    "collapsed": false,
    "pycharm": {
     "name": "#%% md\n"
    }
   },
   "source": [
    "For the train-test-split used in this solution, the performance of the Lasso model and the performance of the linear regression model are equal on the test set. The non-regularized model has a better performance on the training set, but the rmse-score on the test is slightly higher. This indicates a small overfitting. The lasso approach can reduce the overfitting. Here, the scores on test and training data set are closer to each other. On the other hand, it also introduces a small bias caused by the additional model assumptions. As a result, the performances on the test set are equally good.\n",
    "\n",
    "When looking at the coefficients of the regression, one notes that three of the coefficients in the Lasso model are at 0. The lasso algorithm performs an inherent feature selection and creates a more simple model that only uses the four features displacement, horsepower, weight and model year.\n",
    "\n",
    "To sum it up, the Lasso regularization does not increase the performance for the data set at hand, but leads to a more simple regression model. This may be desirable in some cases as it can lead to a better explainability of the model.\n",
    "\n",
    "As the data set is quite small, the results depend a lot on the chosen train-test-split. It might be, that in your case one of the models performs much better than the other. This is only due to the randomness in the split. For a final assessment of the model performances, a larger data set would be needed."
   ]
  },
  {
   "cell_type": "markdown",
   "metadata": {
    "collapsed": false,
    "pycharm": {
     "name": "#%% md\n"
    }
   },
   "source": [
    "d) Perform a hyperparameter optimization for the lasso approach by trying different values for the hyperparameter alpha. Evaluate the performance and find the alpha value with the best performance."
   ]
  },
  {
   "cell_type": "code",
   "execution_count": 31,
   "metadata": {
    "collapsed": false,
    "pycharm": {
     "name": "#%%\n"
    }
   },
   "outputs": [
    {
     "name": "stderr",
     "output_type": "stream",
     "text": [
      "e:\\programms\\anaconda3\\Lib\\site-packages\\sklearn\\base.py:1151: UserWarning: With alpha=0, this algorithm does not converge well. You are advised to use the LinearRegression estimator\n",
      "  return fit_method(estimator, *args, **kwargs)\n",
      "e:\\programms\\anaconda3\\Lib\\site-packages\\sklearn\\linear_model\\_coordinate_descent.py:628: UserWarning: Coordinate descent with no regularization may lead to unexpected results and is discouraged.\n",
      "  model = cd_fast.enet_coordinate_descent(\n",
      "e:\\programms\\anaconda3\\Lib\\site-packages\\sklearn\\linear_model\\_coordinate_descent.py:628: ConvergenceWarning: Objective did not converge. You might want to increase the number of iterations, check the scale of the features or consider increasing regularisation. Duality gap: 1.443e+03, tolerance: 1.570e+00 Linear regression models with null weight for the l1 regularization term are more efficiently fitted using one of the solvers implemented in sklearn.linear_model.Ridge/RidgeCV instead.\n",
      "  model = cd_fast.enet_coordinate_descent(\n"
     ]
    },
    {
     "data": {
      "text/plain": [
       "<matplotlib.legend.Legend at 0x20ab5588450>"
      ]
     },
     "execution_count": 31,
     "metadata": {},
     "output_type": "execute_result"
    },
    {
     "data": {
      "image/png": "[encoded data removed]",
      "text/plain": [
       "<Figure size 640x480 with 1 Axes>"
      ]
     },
     "metadata": {},
     "output_type": "display_data"
    }
   ],
   "source": [
    "# define several values for the alpha parameter\n",
    "alpha = np.linspace(0,3,301)\n",
    "\n",
    "rmse_train = []\n",
    "rmse_test = []\n",
    "# loop for training and evaluating the classifiers\n",
    "for i in alpha:\n",
    "    lin_reg = Lasso(alpha=i, fit_intercept=True).fit(x_train,y_train)\n",
    "    y_train_pred = lin_reg.predict(x_train)\n",
    "    y_test_pred = lin_reg.predict(x_test)\n",
    "    rmse_train.append(mean_squared_error(y_train, y_train_pred, squared=False))\n",
    "    rmse_test.append(mean_squared_error(y_test, y_test_pred, squared=False))\n",
    "\n",
    "import matplotlib.pyplot as plt\n",
    "plt.figure()\n",
    "plt.plot(alpha,rmse_train)\n",
    "plt.plot(alpha,rmse_test)\n",
    "plt.xlabel('alpha')\n",
    "plt.ylabel('RMSE')\n",
    "plt.legend(['Training', 'Test'])"
   ]
  },
  {
   "cell_type": "code",
   "execution_count": 32,
   "metadata": {
    "collapsed": false,
    "pycharm": {
     "name": "#%%\n"
    }
   },
   "outputs": [
    {
     "name": "stdout",
     "output_type": "stream",
     "text": [
      "Best alpha: 0.36\n",
      "The root mean squared error on the training set is 3.31 \n",
      " The root mean squared error on the test set is 3.42\n"
     ]
    }
   ],
   "source": [
    "# check out the optimal values\n",
    "min_index = np.argmin(rmse_test)\n",
    "print('Best alpha: {}'.format(alpha[min_index]))\n",
    "\n",
    "# linear model and fit it to the given data\n",
    "lin_reg = Lasso(alpha=alpha[min_index], fit_intercept=True).fit(x_train,y_train)\n",
    "\n",
    "# calculate the predicted values\n",
    "y_train_pred = lin_reg.predict(x_train)\n",
    "y_test_pred = lin_reg.predict(x_test)\n",
    "\n",
    "# calculate the root mean square error\n",
    "from sklearn.metrics import mean_squared_error\n",
    "rmse_train = mean_squared_error(y_train, y_train_pred, squared=False)\n",
    "rmse_test = mean_squared_error(y_test, y_test_pred, squared=False)\n",
    "print('The root mean squared error on the training set is {:.2f} \\n The root mean squared error on the test set is {:.2f}'.format(rmse_train, rmse_test))"
   ]
  },
  {
   "cell_type": "markdown",
   "metadata": {
    "collapsed": false,
    "pycharm": {
     "name": "#%% md\n"
    }
   },
   "source": [
    "For the train-test-split that was used here, the optimal value for alpha is 0.36. From the plotted curve of the training error, one can see that the bias increases with higher alpha values. At the same time, the variance of the model decreases and the training and test error are closer to each other than with the linear regression approach without regularization (alpha=0). When the value for alpha is chosen too high, the increase in bias is much higher than the decrease in variance and the overall performance gets worse.\n",
    "\n",
    "In general, there is no clear rule to say which approach is better, as this depends a lot on the given data set."
   ]
  }
 ],
 "metadata": {
  "kernelspec": {
   "display_name": "Python 3",
   "language": "python",
   "name": "python3"
  },
  "language_info": {
   "codemirror_mode": {
    "name": "ipython",
    "version": 3
   },
   "file_extension": ".py",
   "mimetype": "text/x-python",
   "name": "python",
   "nbconvert_exporter": "python",
   "pygments_lexer": "ipython3",
   "version": "3.11.5"
  }
 },
 "nbformat": 4,
 "nbformat_minor": 0
}
