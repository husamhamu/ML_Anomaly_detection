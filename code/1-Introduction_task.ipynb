{
 "cells": [
  {
   "cell_type": "markdown",
   "metadata": {
    "collapsed": false,
    "pycharm": {
     "name": "#%% md\n"
    }
   },
   "source": [
    "# Exercise 1: Introduction to Python\n",
    "-----------\n",
    "This first exercise gives a short introduction to the basics of the Python programming language. For the participation in the machine learning applications course and the data challenge, a basic programming knowledge is a prerequisite. The contents of this exercise should therefore already be known for the most part. If the contents of this exercise are new to you, and you have difficulties solving the tasks, you should invest time in learning the basics of Python before starting the Data Challenge.\n",
    "\n",
    "In the rest of the lecture we will not go further into the basics of Python. Helpful places to start learning Python include the following:\n",
    "- Python tutorial of w3schools: https://www.w3schools.com/python/default.asp\n",
    "- Python beginners guide: https://wiki.python.org/moin/BeginnersGuide\n",
    "- The Python tutorial: https://docs.python.org/3/tutorial/index.html\n",
    "- Coursera: Programming for everybody (Getting started with Python): https://www.coursera.org/learn/python?specialization=python\n",
    "\n",
    "\n",
    "-----------\n",
    "Python is one of the most popular computer programming languages. It is a general-purpose language, meaning that it can be used to solve a variety of different problems and is not specialized for one specific task. Often, Python is used for data analysis and machine learning, web development or task automation.\n",
    "The reasons for its popularity are the simple syntax that makes it easy to learn for beginners and its open source approach. There is a huge amount of modules and libraries created by the large user community that can be used for programming.\n",
    "\n",
    "\n",
    "## Jupyter Notebooks\n",
    "For the exercises, we will use Jupyter notebooks. A notebook is a document that contains both computer code and text elements. It contains two different kinds of cells: code cells in Python and text cells (e.g. using Markdown) which are used to explain and describe the code and the results.\n",
    "\n",
    "In order to execute a programmed code, you should write it in a code cell and execute it by clicking on the play icon at the top or using the shortcut _shift+return_. The output is then shown below the code cell.\n",
    "\n",
    "If you want to create a comment, you can use the # sign. Everything that follows this sign in a line of code will be ignored during the execution of the program.\n"
   ]
  },
  {
   "cell_type": "code",
   "execution_count": 2,
   "metadata": {
    "collapsed": false,
    "pycharm": {
     "name": "#%%\n"
    }
   },
   "outputs": [
    {
     "name": "stdout",
     "output_type": "stream",
     "text": [
      "Hello World\n"
     ]
    }
   ],
   "source": [
    "# First line of code\n",
    "print('Hello World')"
   ]
  },
  {
   "cell_type": "markdown",
   "metadata": {
    "collapsed": false,
    "pycharm": {
     "name": "#%% md\n"
    }
   },
   "source": [
    "## Variables\n",
    "\n",
    "Variables are used to store values that shall be used later on. To create a variable, you have to assign a value to it. There are some rules regarding the names of variables:\n",
    "- Variable names can only contain letters, numbers and underscores\n",
    "- A variable name can only start with a letter or an underscore, a number cannot be the first character\n",
    "- Variable names are case-sensitive\n",
    "\n",
    "To show the output of a variable, you can use the \"print\" command. You can also embed the variable in a string using the \"format\" option of the print command."
   ]
  },
  {
   "cell_type": "code",
   "execution_count": 3,
   "metadata": {
    "collapsed": false,
    "pycharm": {
     "name": "#%%\n"
    }
   },
   "outputs": [
    {
     "name": "stdout",
     "output_type": "stream",
     "text": [
      "11\n",
      "The sum of a and b is 11.\n",
      "The sum of d and e is 59.\n"
     ]
    }
   ],
   "source": [
    "# create two variables named a and b\n",
    "a = 3\n",
    "b = 8\n",
    "\n",
    "c = a+b\n",
    "\n",
    "print(c)\n",
    "\n",
    "print('The sum of a and b is {}.'.format(c))\n",
    "\n",
    "# it is also possible to assign multiple variables at once\n",
    "d, e = 2, 57\n",
    "print('The sum of d and e is {}.'.format(d+e))\n"
   ]
  },
  {
   "cell_type": "markdown",
   "metadata": {
    "collapsed": false,
    "pycharm": {
     "name": "#%% md\n"
    }
   },
   "source": [
    "## Data Types\n",
    "\n",
    "Variables can store different types of data. The data type is very important in programming, because certain functions or operators often require that their input arguments are of a specific type.\n",
    "\n",
    "The most important data types for our use cases are:\n",
    "- Numeric types\n",
    "    - *float*: Floating point numbers, e.g. a = 3.141\n",
    "    - *int*: Integer numbers, e.g. a = 284\n",
    "    - *complex*: Complex numbers, e.g. a = 3+2j\n",
    "- Text types\n",
    "    - *str*: Strings of textual data, e.g. a = 'Hello World'\n",
    "- Boolean type:\n",
    "    - *bool*: a = True or a = False\n",
    "- Data types to store collections of data\n",
    "    - *tuple*: Tuples\n",
    "    - *list*: Lists\n",
    "    - *dict*: Dictionaries\n",
    "    - *set*: Sets\n",
    "\n",
    "If you want to know the data type of an object, you can use the \"type()\" function. You can also specify a data type when you define a variable."
   ]
  },
  {
   "cell_type": "code",
   "execution_count": 4,
   "metadata": {
    "collapsed": false,
    "pycharm": {
     "name": "#%%\n"
    }
   },
   "outputs": [
    {
     "name": "stdout",
     "output_type": "stream",
     "text": [
      "<class 'int'>\n",
      "<class 'float'>\n"
     ]
    }
   ],
   "source": [
    "# Define an integer variable\n",
    "int_variable = 15\n",
    "print(type(int_variable))\n",
    "\n",
    "# Specify the data type as float\n",
    "float_variable = float(15)\n",
    "print(type(float_variable))"
   ]
  },
  {
   "cell_type": "markdown",
   "metadata": {
    "collapsed": false,
    "pycharm": {
     "name": "#%% md\n"
    }
   },
   "source": [
    "## Calculating with numeric data\n",
    "\n",
    "Python can be easily used for calculations. Most of the operators for calculations are intuitive:\n",
    "\n",
    "|  Operator  | Name           |\n",
    "|:----------:|----------------|\n",
    "|     +      | Addition       |\n",
    "|     -      | Subtraction    |\n",
    "|     *      | Multiplication |\n",
    "|     /      | Division       |\n",
    "|     **     | Exponentiation |\n",
    "|     %      | Modulus        |\n",
    "|     //     | Floor division |\n"
   ]
  },
  {
   "cell_type": "code",
   "execution_count": 5,
   "metadata": {
    "collapsed": false,
    "pycharm": {
     "name": "#%%\n"
    }
   },
   "outputs": [
    {
     "name": "stdout",
     "output_type": "stream",
     "text": [
      "3\n"
     ]
    }
   ],
   "source": [
    "# Sample calculation\n",
    "x = 3**3%8\n",
    "\n",
    "print(x)"
   ]
  },
  {
   "cell_type": "markdown",
   "metadata": {
    "collapsed": false,
    "pycharm": {
     "name": "#%% md\n"
    }
   },
   "source": [
    "## Importing Libraries\n",
    "\n",
    "Not all mathematical functions are already available in the basic Python module. That means, we have to import them before we can use them. Some very important libraries are:\n",
    "- numpy: Includes basic mathematical operations and is used to work with vectors, arrays and matrices\n",
    "- matplotlib: Can be used to create various plots"
   ]
  },
  {
   "cell_type": "code",
   "execution_count": 6,
   "metadata": {
    "collapsed": false,
    "pycharm": {
     "name": "#%%\n"
    }
   },
   "outputs": [
    {
     "data": {
      "text/plain": [
       "[<matplotlib.lines.Line2D at 0x21740dfeb10>]"
      ]
     },
     "execution_count": 6,
     "metadata": {},
     "output_type": "execute_result"
    },
    {
     "data": {
      "image/png": "[encoded data removed]",
      "text/plain": [
       "<Figure size 640x480 with 1 Axes>"
      ]
     },
     "metadata": {},
     "output_type": "display_data"
    }
   ],
   "source": [
    "# Example: plot the exponential function\n",
    "# import libraries\n",
    "import numpy as np\n",
    "import matplotlib.pyplot as plt\n",
    "\n",
    "x = np.linspace(0,5,100)\n",
    "y = np.exp(x)\n",
    "\n",
    "plt.plot(x,y)"
   ]
  },
  {
   "cell_type": "markdown",
   "metadata": {
    "collapsed": false,
    "pycharm": {
     "name": "#%% md\n"
    }
   },
   "source": [
    "## Working with strings\n",
    "\n",
    "Strings are declared by either using single or double quotation marks. That means, 'Hello World' is the same thing as \"Hello World\"."
   ]
  },
  {
   "cell_type": "code",
   "execution_count": 7,
   "metadata": {
    "collapsed": false,
    "pycharm": {
     "name": "#%%\n"
    }
   },
   "outputs": [
    {
     "name": "stdout",
     "output_type": "stream",
     "text": [
      "<class 'str'>\n",
      "<class 'str'>\n"
     ]
    }
   ],
   "source": [
    "a = 'Hello'\n",
    "b = \"Hello\"\n",
    "print(type(a))\n",
    "print(type(b))"
   ]
  },
  {
   "cell_type": "markdown",
   "metadata": {
    "collapsed": false,
    "pycharm": {
     "name": "#%% md\n"
    }
   },
   "source": [
    "Python handles strings like arrays of characters. They can be concatenated using the operator +."
   ]
  },
  {
   "cell_type": "code",
   "execution_count": 8,
   "metadata": {
    "collapsed": false,
    "pycharm": {
     "name": "#%%\n"
    }
   },
   "outputs": [
    {
     "name": "stdout",
     "output_type": "stream",
     "text": [
      "Hello World\n"
     ]
    }
   ],
   "source": [
    "a = 'He'\n",
    "b = 'llo'\n",
    "c = a + b + ' World'\n",
    "print(c)"
   ]
  },
  {
   "cell_type": "markdown",
   "metadata": {
    "collapsed": false,
    "pycharm": {
     "name": "#%% md\n"
    }
   },
   "source": [
    "You can access substrings using [] brackets and an indice to identify the characters that you want to access. The index 0 stands for the first letter in the string, the index n-1 for the last one with n being the total number of characters."
   ]
  },
  {
   "cell_type": "code",
   "execution_count": 9,
   "metadata": {
    "collapsed": false,
    "pycharm": {
     "name": "#%%\n"
    }
   },
   "outputs": [
    {
     "name": "stdout",
     "output_type": "stream",
     "text": [
      "Hello\n",
      "d\n",
      "World\n",
      "llo World\n"
     ]
    }
   ],
   "source": [
    "a = 'Hello World'\n",
    "\n",
    "# get the first five characters\n",
    "b = a[0:5] # this is interpreted as getting the characters 0, 1, 2, 3 and 4\n",
    "print(b)\n",
    "\n",
    "# total number of characters\n",
    "n = len(a)\n",
    "# last character\n",
    "c = a[n-1]\n",
    "print(c)\n",
    "\n",
    "# last five characters - the indices can also be negative which means they are counted from the end, an index -5 is interpreted as n-5\n",
    "d = a[-5:]\n",
    "print(d)\n",
    "\n",
    "# get all characters starting with the third character\n",
    "e = a[2:]\n",
    "print(e)"
   ]
  },
  {
   "cell_type": "markdown",
   "metadata": {
    "collapsed": false,
    "pycharm": {
     "name": "#%% md\n"
    }
   },
   "source": [
    "## Lists, tuples, sets, dictionaries\n",
    "\n",
    "In Python, there are several possibilities to store multiple items in one single variable:\n",
    "- lists are collections that are ordered, changeable and allow duplicate values\n",
    "- tuples are collections that are ordered, unchangeable and allow duplicate values\n",
    "- sets are collections that are unordered, unchangeable and do not allow duplicate values\n",
    "- dictionaries are collections that are ordered, changeable and do not allow duplicate values"
   ]
  },
  {
   "cell_type": "markdown",
   "metadata": {
    "collapsed": false,
    "pycharm": {
     "name": "#%% md\n"
    }
   },
   "source": [
    "**Lists** are collections of other objects - that can be strings, floats or other lists. They are ordered which means that there is a start item with index 0, and an end item. All items can be accessed via their indices."
   ]
  },
  {
   "cell_type": "code",
   "execution_count": 10,
   "metadata": {
    "collapsed": false,
    "pycharm": {
     "name": "#%%\n"
    }
   },
   "outputs": [
    {
     "name": "stdout",
     "output_type": "stream",
     "text": [
      "['apple', 'peach', 'banana', 4]\n",
      "peach\n",
      "['apple', 'peach', 'pear', 4]\n"
     ]
    }
   ],
   "source": [
    "# lists are created using square brackets\n",
    "sample_list = ['apple', 'peach', 'banana']\n",
    "\n",
    "# add items to the list\n",
    "sample_list.append(4) # the elements in a list do not have to be of the same data type\n",
    "print(sample_list)\n",
    "\n",
    "# list items can be accessed via their index - this works exactly the same as for strings\n",
    "print(sample_list[1])\n",
    "\n",
    "# list items are changeable\n",
    "sample_list[2] = 'pear'\n",
    "print(sample_list)"
   ]
  },
  {
   "cell_type": "markdown",
   "metadata": {
    "collapsed": false,
    "pycharm": {
     "name": "#%% md\n"
    }
   },
   "source": [
    "Like lists, **tuples** are ordered collections of other objects. The difference is that they are not changeable."
   ]
  },
  {
   "cell_type": "code",
   "execution_count": 11,
   "metadata": {
    "collapsed": false,
    "pycharm": {
     "name": "#%%\n"
    }
   },
   "outputs": [
    {
     "name": "stdout",
     "output_type": "stream",
     "text": [
      "('apple', 'peach', 'banana')\n",
      "apple\n"
     ]
    }
   ],
   "source": [
    "# tuples are created using parentheses\n",
    "sample_tuple = ('apple', 'peach', 'banana')\n",
    "print(sample_tuple)\n",
    "\n",
    "# like lists, they can be accessed using indexing\n",
    "print(sample_tuple[0])"
   ]
  },
  {
   "cell_type": "code",
   "execution_count": 12,
   "metadata": {
    "collapsed": false,
    "pycharm": {
     "name": "#%%\n"
    }
   },
   "outputs": [
    {
     "ename": "TypeError",
     "evalue": "'tuple' object does not support item assignment",
     "output_type": "error",
     "traceback": [
      "\u001b[1;31m---------------------------------------------------------------------------\u001b[0m",
      "\u001b[1;31mTypeError\u001b[0m                                 Traceback (most recent call last)",
      "\u001b[1;32me:\\TU Darmstadt\\ML Applications\\exercises\\1-Introduction_task.ipynb Cell 22\u001b[0m line \u001b[0;36m2\n\u001b[0;32m      <a href='vscode-notebook-cell:/e%3A/TU%20Darmstadt/ML%20Applications/exercises/1-Introduction_task.ipynb#X30sZmlsZQ%3D%3D?line=0'>1</a>\u001b[0m \u001b[39m# tuples cannot be changed\u001b[39;00m\n\u001b[1;32m----> <a href='vscode-notebook-cell:/e%3A/TU%20Darmstadt/ML%20Applications/exercises/1-Introduction_task.ipynb#X30sZmlsZQ%3D%3D?line=1'>2</a>\u001b[0m sample_tuple[\u001b[39m1\u001b[39m] \u001b[39m=\u001b[39m \u001b[39m'\u001b[39m\u001b[39mcherry\u001b[39m\u001b[39m'\u001b[39m\n",
      "\u001b[1;31mTypeError\u001b[0m: 'tuple' object does not support item assignment"
     ]
    }
   ],
   "source": [
    "# tuples cannot be changed\n",
    "sample_tuple[1] = 'cherry'"
   ]
  },
  {
   "cell_type": "code",
   "execution_count": 13,
   "metadata": {
    "collapsed": false,
    "pycharm": {
     "name": "#%%\n"
    }
   },
   "outputs": [
    {
     "name": "stdout",
     "output_type": "stream",
     "text": [
      "('apple', 'peach', 'banana', 'cherry')\n"
     ]
    }
   ],
   "source": [
    "# To add an item to a tuple, you can join it as another tuple\n",
    "tuple_2 = sample_tuple + ('cherry',)\n",
    "print(tuple_2)"
   ]
  },
  {
   "cell_type": "markdown",
   "metadata": {
    "collapsed": false,
    "pycharm": {
     "name": "#%% md\n"
    }
   },
   "source": [
    "**Sets** are unordered data collections. They cannot be referred to by an index. Like tuples, they cannot be changed."
   ]
  },
  {
   "cell_type": "code",
   "execution_count": 16,
   "metadata": {
    "collapsed": false,
    "pycharm": {
     "name": "#%%\n"
    }
   },
   "outputs": [
    {
     "name": "stdout",
     "output_type": "stream",
     "text": [
      "{'banana', 'apple', 'peach'}\n",
      "{'banana', 'cherry', 'apple'}\n",
      "{'banana', 'cherry', 'apple'}\n",
      "True\n"
     ]
    }
   ],
   "source": [
    "# sets are created using curly brackets\n",
    "sample_set = {'apple', 'peach', 'banana'}\n",
    "print(sample_set) # as sets are unordered, the elements are not printed in the order of creation\n",
    "\n",
    "# items can be added and removed\n",
    "sample_set.add('cherry')\n",
    "sample_set.remove('peach')\n",
    "print(sample_set)\n",
    "\n",
    "# duplicate values are not allowed and will be ignored\n",
    "sample_set.add('apple')\n",
    "print(sample_set)\n",
    "\n",
    "# indexing to access individual items is not possible\n",
    "# but you can check whether an item is present in the set\n",
    "print('apple' in sample_set)"
   ]
  },
  {
   "cell_type": "markdown",
   "metadata": {
    "collapsed": false,
    "pycharm": {
     "name": "#%% md\n"
    }
   },
   "source": [
    "**Dictionaries** are used to store data in key:value pairs. The values can be accessed using the keys of the dictionary."
   ]
  },
  {
   "cell_type": "code",
   "execution_count": 17,
   "metadata": {
    "collapsed": false,
    "pycharm": {
     "name": "#%%\n"
    }
   },
   "outputs": [
    {
     "name": "stdout",
     "output_type": "stream",
     "text": [
      "{'name': 'John', 'age': 25, 'hair color': 'brown'}\n",
      "John\n",
      "{'name': 'John', 'age': 30, 'hair color': 'brown'}\n",
      "{'name': 'John', 'age': 30, 'eye color': 'green'}\n"
     ]
    }
   ],
   "source": [
    "# dictionaries are created using curly brackets and key: value pairs\n",
    "sample_dict = {'name': 'John',\n",
    "               'age': 25,\n",
    "               'hair color': 'brown'}\n",
    "print(sample_dict)\n",
    "\n",
    "# access values via their key\n",
    "print(sample_dict['name'])\n",
    "\n",
    "# the values of a dictionary can be changed\n",
    "sample_dict['age'] = 30\n",
    "print(sample_dict)\n",
    "\n",
    "# key:value pairs can be added or removed\n",
    "sample_dict['eye color'] = 'green'\n",
    "del sample_dict['hair color']\n",
    "print(sample_dict)"
   ]
  },
  {
   "cell_type": "markdown",
   "metadata": {
    "collapsed": false,
    "pycharm": {
     "name": "#%% md\n"
    }
   },
   "source": [
    "## If statements\n",
    "\n",
    "If statements are used to express logical conditions. The code within an if statement is only executed when a certain condition is met. Possible logical conditions are:\n",
    "- equals: a == b\n",
    "- not equals: a != b\n",
    "- less than: a < b\n",
    "- less than or equal to: a <= b\n",
    "- greater than a > b\n",
    "- greater than or equal to : a >= b\n",
    "- other logical operations, e.g. a in list\n",
    "\n",
    "If statements are constructed using the keywords if, elif (\"else if\") and else."
   ]
  },
  {
   "cell_type": "code",
   "execution_count": 15,
   "metadata": {
    "collapsed": false,
    "pycharm": {
     "name": "#%%\n"
    }
   },
   "outputs": [
    {
     "name": "stdout",
     "output_type": "stream",
     "text": [
      "a equals b\n"
     ]
    }
   ],
   "source": [
    "# example: check whether number a is higher or lower than b\n",
    "a = 10\n",
    "b = 10\n",
    "# the conditions end with a colon, the code within the statement is indented\n",
    "if a > b:\n",
    "    print('a is higher than b')\n",
    "elif a < b: # this condition is tried when the previous condition was not true\n",
    "    print('b is higher than a')\n",
    "else: # executed when all the preceding conditions were not true\n",
    "    print('a equals b')\n"
   ]
  },
  {
   "cell_type": "code",
   "execution_count": 16,
   "metadata": {
    "collapsed": false,
    "pycharm": {
     "name": "#%%\n"
    }
   },
   "outputs": [
    {
     "name": "stdout",
     "output_type": "stream",
     "text": [
      "{'cherry', 'pear', 'banana', 'apple'}\n"
     ]
    }
   ],
   "source": [
    "# example: check whether an item is included in a set and add it, if not\n",
    "set_a = {'apple', 'banana', 'cherry'}\n",
    "item = 'pear'\n",
    "\n",
    "if item not in set_a:\n",
    "    set_a.add(item)\n",
    "    print(set_a)\n",
    "else:\n",
    "    print('item is already in the set')"
   ]
  },
  {
   "cell_type": "markdown",
   "metadata": {
    "collapsed": false,
    "pycharm": {
     "name": "#%% md\n"
    }
   },
   "source": [
    "## Loops\n",
    "\n",
    "Python has two different loop commands: *while* and *for* loops.\n",
    "\n",
    "While loops are executed as long as a given condition is true. For loops are used for iterating over a sequence."
   ]
  },
  {
   "cell_type": "code",
   "execution_count": 17,
   "metadata": {
    "collapsed": false,
    "pycharm": {
     "name": "#%%\n"
    }
   },
   "outputs": [
    {
     "name": "stdout",
     "output_type": "stream",
     "text": [
      "1\n",
      "2\n",
      "3\n",
      "4\n",
      "5\n"
     ]
    }
   ],
   "source": [
    "# example for a while loop\n",
    "# count from 1 to 5\n",
    "i = 1\n",
    "while i <= 5:\n",
    "    print(i)\n",
    "    i += 1"
   ]
  },
  {
   "cell_type": "code",
   "execution_count": 18,
   "metadata": {
    "collapsed": false,
    "pycharm": {
     "name": "#%%\n"
    }
   },
   "outputs": [
    {
     "name": "stdout",
     "output_type": "stream",
     "text": [
      "cherry\n",
      "peach\n",
      "banana\n",
      "1\n",
      "2\n",
      "3\n",
      "4\n",
      "5\n"
     ]
    }
   ],
   "source": [
    "# examples for a for loop\n",
    "\n",
    "# loop through a list of items\n",
    "sample_list = ['cherry', 'peach', 'banana']\n",
    "for i in sample_list:\n",
    "    print(i)\n",
    "\n",
    "# we can also use a for loop to count from 1 to 5\n",
    "# the range() function returns a sequence of numbers with a given start and end value\n",
    "for i in range(1,6):\n",
    "    print(i)\n"
   ]
  },
  {
   "cell_type": "code",
   "execution_count": 19,
   "metadata": {
    "collapsed": false,
    "pycharm": {
     "name": "#%%\n"
    }
   },
   "outputs": [
    {
     "name": "stdout",
     "output_type": "stream",
     "text": [
      "1\n",
      "3\n"
     ]
    }
   ],
   "source": [
    "# the \"continue\" statement can be used to stop the current iteration and continue with the next\n",
    "# the \"break\" statement is used to stop the loop\n",
    "\n",
    "i = 0\n",
    "while i <= 5:\n",
    "    i += 1\n",
    "    if i == 2:\n",
    "        continue\n",
    "    if i == 4:\n",
    "        break\n",
    "    print(i)\n"
   ]
  },
  {
   "cell_type": "markdown",
   "metadata": {
    "collapsed": false,
    "pycharm": {
     "name": "#%% md\n"
    }
   },
   "source": [
    "## Functions\n",
    "\n",
    "A function is a block of code that only runs when it is called. This is very useful to organize your code. A function can take certain parameters as input and can also return parameters. Functions are defined using the **def** keyword."
   ]
  },
  {
   "cell_type": "code",
   "execution_count": 20,
   "metadata": {
    "collapsed": false,
    "pycharm": {
     "name": "#%%\n"
    }
   },
   "outputs": [
    {
     "name": "stdout",
     "output_type": "stream",
     "text": [
      "Hello World\n"
     ]
    }
   ],
   "source": [
    "# create a function called first_function that prints a greeting\n",
    "def first_function():\n",
    "    print('Hello World')\n",
    "\n",
    "# the function is called using its name followed by parenthesis\n",
    "first_function()"
   ]
  },
  {
   "cell_type": "code",
   "execution_count": 21,
   "metadata": {
    "collapsed": false,
    "pycharm": {
     "name": "#%%\n"
    }
   },
   "outputs": [
    {
     "name": "stdout",
     "output_type": "stream",
     "text": [
      "10\n"
     ]
    }
   ],
   "source": [
    "# input parameters are defined within the parenthesis of the function\n",
    "def double(number):\n",
    "    double_number = 2*number\n",
    "    # Use the return statement to let the function return a value\n",
    "    return double_number\n",
    "\n",
    "x = 5\n",
    "y = double(x)\n",
    "print(y)"
   ]
  },
  {
   "cell_type": "markdown",
   "metadata": {
    "collapsed": false,
    "pycharm": {
     "name": "#%% md\n"
    }
   },
   "source": [
    "----------\n",
    "## Tasks\n",
    "In the following, you will find four tasks to test your programming skills. Use your already existing programming knowledge and the information given in this notebook to solve the tasks!\n",
    "\n",
    "<br/>\n",
    "\n",
    "\n",
    "## Task 1: Plotting graphs\n",
    "\n",
    "Calculate the sine and cosine function over one period from 0 to 2$\\pi$ and plot the two functions in one graph. Hint: Use the matplotlib.pyplot and numpy libraries to perform this task.\n",
    "\n",
    "Assign the color red to the sine curve and the color blue to the cosine curve. Add a legend and axis titles to the graphs."
   ]
  },
  {
   "cell_type": "code",
   "execution_count": 23,
   "metadata": {
    "collapsed": false,
    "pycharm": {
     "name": "#%%\n"
    }
   },
   "outputs": [
    {
     "data": {
      "image/png": "[encoded data removed]",
      "text/plain": [
       "<Figure size 640x480 with 1 Axes>"
      ]
     },
     "metadata": {},
     "output_type": "display_data"
    }
   ],
   "source": [
    "import numpy as np\n",
    "import matplotlib.pyplot as plt\n",
    "\n",
    "# Generate x values from 0 to 2π with a certain number of points\n",
    "x = np.linspace(0, 2 * np.pi, 100)\n",
    "\n",
    "# Calculate sine and cosine values for the given x values\n",
    "sine_values = np.sin(x)\n",
    "cosine_values = np.cos(x)\n",
    "\n",
    "# Create the plot\n",
    "plt.plot(x, sine_values, color='red', label='Sine')\n",
    "plt.plot(x, cosine_values, color='blue', label='Cosine')\n",
    "\n",
    "# Add a legend\n",
    "plt.legend()\n",
    "\n",
    "# Add axis titles\n",
    "plt.xlabel('x')\n",
    "plt.ylabel('Function Value')\n",
    "\n",
    "# Show the plot\n",
    "plt.show()\n"
   ]
  },
  {
   "cell_type": "markdown",
   "metadata": {
    "collapsed": false,
    "pycharm": {
     "name": "#%% md\n"
    }
   },
   "source": [
    "## Task 2: Matrix Multiplication\n",
    "\n",
    "Write a program that takes two matrices (given as two numpy arrays) and performs a matrix multiplication of these two matrices. The program should first check whether a multiplication is possible. Remember: matrices can only be multiplied, when the number of columns of the first matrix is equal to the number of rows of the second matrix. After that, the multiplication should be performed by calculating the dot products of each row of the first matrix with each column of the second matrix."
   ]
  },
  {
   "cell_type": "code",
   "execution_count": 25,
   "metadata": {
    "collapsed": false,
    "pycharm": {
     "name": "#%%\n"
    }
   },
   "outputs": [
    {
     "name": "stdout",
     "output_type": "stream",
     "text": [
      "Result of matrix multiplication:\n",
      "[[ 10  62   3]\n",
      " [ 38  -6  20]\n",
      " [-38  43  -1]]\n"
     ]
    }
   ],
   "source": [
    "# take for example these two matrices:\n",
    "mat_a = np.array([[3, 5, 7],\n",
    "              [-6, 2, 8],\n",
    "              [9, 0, -2]])\n",
    "mat_b = np.array([[-4, 5, 1],\n",
    "              [3, 8, -7],\n",
    "              [1, 1, 5]])\n",
    "\n",
    "def matrix_multiply(matrix1, matrix2):\n",
    "    # Check if the number of columns in the first matrix is equal to the number of rows in the second matrix\n",
    "    if matrix1.shape[1] != matrix2.shape[0]:\n",
    "        print(\"Matrix multiplication is not possible. Number of columns in the first matrix must match the number of rows in the second matrix.\")\n",
    "        return None\n",
    "\n",
    "    # Perform matrix multiplication\n",
    "    result = np.dot(matrix1, matrix2)\n",
    "    return result\n",
    "\n",
    "# Perform matrix multiplication\n",
    "result_matrix = matrix_multiply(mat_a, mat_b)\n",
    "\n",
    "if result_matrix is not None:\n",
    "    print(\"Result of matrix multiplication:\")\n",
    "    print(result_matrix)\n",
    "\n"
   ]
  },
  {
   "cell_type": "markdown",
   "metadata": {
    "collapsed": false,
    "pycharm": {
     "name": "#%% md\n"
    }
   },
   "source": [
    "## Task 3: Fibonacci\n",
    "\n",
    "The fibonacci sequence is a series of numbers starting with 0,1,1,2,3,5,8,13,...\n",
    "\n",
    "The next number in this sequence is always calculated by adding the two numbers before it. Write a function that takes a natural number n as an input and returns the n-th fibonacci number."
   ]
  },
  {
   "cell_type": "code",
   "execution_count": 26,
   "metadata": {
    "collapsed": false,
    "pycharm": {
     "name": "#%%\n"
    }
   },
   "outputs": [
    {
     "name": "stdout",
     "output_type": "stream",
     "text": [
      "The 7-th Fibonacci number is 13\n"
     ]
    }
   ],
   "source": [
    "def fibonacci(n):\n",
    "    if n <= 0:\n",
    "        return 0\n",
    "    elif n == 1:\n",
    "        return 1\n",
    "    else:\n",
    "        return fibonacci(n - 1) + fibonacci(n - 2)\n",
    "\n",
    "# Example usage:\n",
    "n = 7  # Replace with the desired value of n\n",
    "result = fibonacci(n)\n",
    "print(f\"The {n}-th Fibonacci number is {result}\")\n"
   ]
  },
  {
   "cell_type": "markdown",
   "metadata": {
    "collapsed": false,
    "pycharm": {
     "name": "#%% md\n"
    }
   },
   "source": [
    "## Task 4: Sorting algorithm\n",
    "\n",
    "Write a python function that sorts the elements of a vector in ascending order. You can use the selection sort approach:\n",
    "- search for the minimum element in the vector and place it at 1st position\n",
    "- search for the second minimum value in the remaining unsorted part of the vector and place at 2nd position\n",
    "- ..."
   ]
  },
  {
   "cell_type": "code",
   "execution_count": 29,
   "metadata": {
    "collapsed": false,
    "pycharm": {
     "name": "#%%\n"
    }
   },
   "outputs": [
    {
     "name": "stdout",
     "output_type": "stream",
     "text": [
      "Sorted vector in ascending order:\n",
      "[1, 2, 3, 4, 5, 9]\n"
     ]
    }
   ],
   "source": [
    "# sample vector\n",
    "vect = [3, 1, 9, 5, 2, 4]\n",
    "\n",
    "def selection_sort(arr):\n",
    "    # Traverse through all array elements\n",
    "    for i in range(len(arr)):\n",
    "        # Find the minimum element in the remaining unsorted array\n",
    "        min_index = i\n",
    "        for j in range(i + 1, len(arr)):\n",
    "            if arr[j] < arr[min_index]:\n",
    "                min_index = j\n",
    "\n",
    "        # Swap the found minimum element with the first element\n",
    "        arr[i], arr[min_index] = arr[min_index], arr[i]\n",
    "\n",
    "# Example usage:\n",
    "selection_sort(vect)\n",
    "\n",
    "print(\"Sorted vector in ascending order:\")\n",
    "print(vect)"
   ]
  },
  {
   "cell_type": "code",
   "execution_count": 32,
   "metadata": {
    "collapsed": false,
    "pycharm": {
     "name": "#%%\n"
    }
   },
   "outputs": [
    {
     "name": "stdout",
     "output_type": "stream",
     "text": [
      "Sorted vector in ascending order:\n",
      "[1, 2, 3, 4, 5, 9]\n"
     ]
    }
   ],
   "source": [
    "def sort_vector_ascending(arr):\n",
    "    return sorted(arr) #build-in function\n",
    "\n",
    "# Example usage:\n",
    "sorted_vector = sort_vector_ascending(vect)\n",
    "\n",
    "print(\"Sorted vector in ascending order:\")\n",
    "print(sorted_vector)"
   ]
  }
 ],
 "metadata": {
  "kernelspec": {
   "display_name": "Python 3",
   "language": "python",
   "name": "python3"
  },
  "language_info": {
   "codemirror_mode": {
    "name": "ipython",
    "version": 3
   },
   "file_extension": ".py",
   "mimetype": "text/x-python",
   "name": "python",
   "nbconvert_exporter": "python",
   "pygments_lexer": "ipython3",
   "version": "3.11.5"
  }
 },
 "nbformat": 4,
 "nbformat_minor": 0
}
